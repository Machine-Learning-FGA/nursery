{
 "cells": [
  {
   "cell_type": "markdown",
   "metadata": {},
   "source": [
    "# KNN\n",
    "\n",
    "O algorítmo denominado de KNN vem da abreviação do nome _K nearest neighboors_, que significa o K vizinhos mais próximos. É um dos classificadores mais comums e utilizados em problemas de classificação. É bastante usado também por ter bons resultados e ser de fácil compreensão.\n",
    "\n",
    "O KNN tem o objetivo de classificar o dado de uma amostra, baseado em amostras vizinhas. Em sua implementação matemática, dois pontos chaves são traçados, que são a distância e o valor de K. Para representar a distância, é comumente utilizada a Distância Euclidiana, mas existem outras formas de representá-la.\n",
    "\n",
    "O valor de K pode ser variado, cabendo à quem implementa determinar o seu valor. É recomendado que o K seja um valor ímpar ou primo, mas é possível também que valores comuns sejam adequados pro seu problema. Para achar o melhor valor de K, existem várias técnicas para otimizar o seu algorítmo, mas essa procura pode tornar o desempenho do modelo mais lento. Ainda assim, o valor de K mais usado para problemas simples é através do método empírico.\n",
    "\n",
    "Abaixo, segue a implementação do KNN com algumas técnicas diferentes."
   ]
  },
  {
   "cell_type": "markdown",
   "metadata": {},
   "source": [
    "Importando as bibliotecas para manipulação dos dados"
   ]
  },
  {
   "cell_type": "code",
   "execution_count": 6,
   "metadata": {},
   "outputs": [],
   "source": [
    "import pandas as pd\n",
    "import numpy as np\n",
    "import matplotlib.pyplot as plt\n",
    "import seaborn as sns\n",
    "%matplotlib inline"
   ]
  },
  {
   "cell_type": "markdown",
   "metadata": {},
   "source": [
    "Adicionando um _header_ com o nome das colunas correspodentes e transformando em um _dataframe_"
   ]
  },
  {
   "cell_type": "code",
   "execution_count": 7,
   "metadata": {},
   "outputs": [
    {
     "data": {
      "text/html": [
       "<div>\n",
       "<style scoped>\n",
       "    .dataframe tbody tr th:only-of-type {\n",
       "        vertical-align: middle;\n",
       "    }\n",
       "\n",
       "    .dataframe tbody tr th {\n",
       "        vertical-align: top;\n",
       "    }\n",
       "\n",
       "    .dataframe thead th {\n",
       "        text-align: right;\n",
       "    }\n",
       "</style>\n",
       "<table border=\"1\" class=\"dataframe\">\n",
       "  <thead>\n",
       "    <tr style=\"text-align: right;\">\n",
       "      <th></th>\n",
       "      <th>parents</th>\n",
       "      <th>has_nurs</th>\n",
       "      <th>form</th>\n",
       "      <th>children</th>\n",
       "      <th>housing</th>\n",
       "      <th>finance</th>\n",
       "      <th>social</th>\n",
       "      <th>health</th>\n",
       "      <th>classification</th>\n",
       "    </tr>\n",
       "  </thead>\n",
       "  <tbody>\n",
       "    <tr>\n",
       "      <th>0</th>\n",
       "      <td>usual</td>\n",
       "      <td>proper</td>\n",
       "      <td>complete</td>\n",
       "      <td>1</td>\n",
       "      <td>convenient</td>\n",
       "      <td>convenient</td>\n",
       "      <td>nonprob</td>\n",
       "      <td>recommended</td>\n",
       "      <td>recommend</td>\n",
       "    </tr>\n",
       "    <tr>\n",
       "      <th>1</th>\n",
       "      <td>usual</td>\n",
       "      <td>proper</td>\n",
       "      <td>complete</td>\n",
       "      <td>1</td>\n",
       "      <td>convenient</td>\n",
       "      <td>convenient</td>\n",
       "      <td>nonprob</td>\n",
       "      <td>priority</td>\n",
       "      <td>priority</td>\n",
       "    </tr>\n",
       "    <tr>\n",
       "      <th>2</th>\n",
       "      <td>usual</td>\n",
       "      <td>proper</td>\n",
       "      <td>complete</td>\n",
       "      <td>1</td>\n",
       "      <td>convenient</td>\n",
       "      <td>convenient</td>\n",
       "      <td>nonprob</td>\n",
       "      <td>not_recom</td>\n",
       "      <td>not_recom</td>\n",
       "    </tr>\n",
       "    <tr>\n",
       "      <th>3</th>\n",
       "      <td>usual</td>\n",
       "      <td>proper</td>\n",
       "      <td>complete</td>\n",
       "      <td>1</td>\n",
       "      <td>convenient</td>\n",
       "      <td>convenient</td>\n",
       "      <td>slightly_prob</td>\n",
       "      <td>recommended</td>\n",
       "      <td>recommend</td>\n",
       "    </tr>\n",
       "    <tr>\n",
       "      <th>4</th>\n",
       "      <td>usual</td>\n",
       "      <td>proper</td>\n",
       "      <td>complete</td>\n",
       "      <td>1</td>\n",
       "      <td>convenient</td>\n",
       "      <td>convenient</td>\n",
       "      <td>slightly_prob</td>\n",
       "      <td>priority</td>\n",
       "      <td>priority</td>\n",
       "    </tr>\n",
       "  </tbody>\n",
       "</table>\n",
       "</div>"
      ],
      "text/plain": [
       "  parents has_nurs      form children     housing     finance         social  \\\n",
       "0   usual   proper  complete        1  convenient  convenient        nonprob   \n",
       "1   usual   proper  complete        1  convenient  convenient        nonprob   \n",
       "2   usual   proper  complete        1  convenient  convenient        nonprob   \n",
       "3   usual   proper  complete        1  convenient  convenient  slightly_prob   \n",
       "4   usual   proper  complete        1  convenient  convenient  slightly_prob   \n",
       "\n",
       "        health classification  \n",
       "0  recommended      recommend  \n",
       "1     priority       priority  \n",
       "2    not_recom      not_recom  \n",
       "3  recommended      recommend  \n",
       "4     priority       priority  "
      ]
     },
     "execution_count": 7,
     "metadata": {},
     "output_type": "execute_result"
    }
   ],
   "source": [
    "columns = ['parents', 'has_nurs', 'form', 'children', 'housing', 'finance', 'social', 'health', 'classification']\n",
    "df = pd.read_csv('nursery.data.csv', header=None, names=columns)\n",
    "df.head()"
   ]
  },
  {
   "cell_type": "markdown",
   "metadata": {},
   "source": [
    "Mostrando informações sobre o _dataframe_"
   ]
  },
  {
   "cell_type": "code",
   "execution_count": 8,
   "metadata": {},
   "outputs": [
    {
     "name": "stdout",
     "output_type": "stream",
     "text": [
      "<class 'pandas.core.frame.DataFrame'>\n",
      "RangeIndex: 12960 entries, 0 to 12959\n",
      "Data columns (total 9 columns):\n",
      "parents           12960 non-null object\n",
      "has_nurs          12960 non-null object\n",
      "form              12960 non-null object\n",
      "children          12960 non-null object\n",
      "housing           12960 non-null object\n",
      "finance           12960 non-null object\n",
      "social            12960 non-null object\n",
      "health            12960 non-null object\n",
      "classification    12960 non-null object\n",
      "dtypes: object(9)\n",
      "memory usage: 911.3+ KB\n"
     ]
    }
   ],
   "source": [
    "df.info()"
   ]
  },
  {
   "cell_type": "markdown",
   "metadata": {},
   "source": [
    "Mostrando um review sobre as colunas do _dataframe_"
   ]
  },
  {
   "cell_type": "code",
   "execution_count": 9,
   "metadata": {},
   "outputs": [
    {
     "data": {
      "text/html": [
       "<div>\n",
       "<style scoped>\n",
       "    .dataframe tbody tr th:only-of-type {\n",
       "        vertical-align: middle;\n",
       "    }\n",
       "\n",
       "    .dataframe tbody tr th {\n",
       "        vertical-align: top;\n",
       "    }\n",
       "\n",
       "    .dataframe thead th {\n",
       "        text-align: right;\n",
       "    }\n",
       "</style>\n",
       "<table border=\"1\" class=\"dataframe\">\n",
       "  <thead>\n",
       "    <tr style=\"text-align: right;\">\n",
       "      <th></th>\n",
       "      <th>parents</th>\n",
       "      <th>has_nurs</th>\n",
       "      <th>form</th>\n",
       "      <th>children</th>\n",
       "      <th>housing</th>\n",
       "      <th>finance</th>\n",
       "      <th>social</th>\n",
       "      <th>health</th>\n",
       "      <th>classification</th>\n",
       "    </tr>\n",
       "  </thead>\n",
       "  <tbody>\n",
       "    <tr>\n",
       "      <th>count</th>\n",
       "      <td>12960</td>\n",
       "      <td>12960</td>\n",
       "      <td>12960</td>\n",
       "      <td>12960</td>\n",
       "      <td>12960</td>\n",
       "      <td>12960</td>\n",
       "      <td>12960</td>\n",
       "      <td>12960</td>\n",
       "      <td>12960</td>\n",
       "    </tr>\n",
       "    <tr>\n",
       "      <th>unique</th>\n",
       "      <td>3</td>\n",
       "      <td>5</td>\n",
       "      <td>4</td>\n",
       "      <td>4</td>\n",
       "      <td>3</td>\n",
       "      <td>2</td>\n",
       "      <td>3</td>\n",
       "      <td>3</td>\n",
       "      <td>5</td>\n",
       "    </tr>\n",
       "    <tr>\n",
       "      <th>top</th>\n",
       "      <td>great_pret</td>\n",
       "      <td>very_crit</td>\n",
       "      <td>incomplete</td>\n",
       "      <td>2</td>\n",
       "      <td>critical</td>\n",
       "      <td>inconv</td>\n",
       "      <td>nonprob</td>\n",
       "      <td>priority</td>\n",
       "      <td>not_recom</td>\n",
       "    </tr>\n",
       "    <tr>\n",
       "      <th>freq</th>\n",
       "      <td>4320</td>\n",
       "      <td>2592</td>\n",
       "      <td>3240</td>\n",
       "      <td>3240</td>\n",
       "      <td>4320</td>\n",
       "      <td>6480</td>\n",
       "      <td>4320</td>\n",
       "      <td>4320</td>\n",
       "      <td>4320</td>\n",
       "    </tr>\n",
       "  </tbody>\n",
       "</table>\n",
       "</div>"
      ],
      "text/plain": [
       "           parents   has_nurs        form children   housing finance   social  \\\n",
       "count        12960      12960       12960    12960     12960   12960    12960   \n",
       "unique           3          5           4        4         3       2        3   \n",
       "top     great_pret  very_crit  incomplete        2  critical  inconv  nonprob   \n",
       "freq          4320       2592        3240     3240      4320    6480     4320   \n",
       "\n",
       "          health classification  \n",
       "count      12960          12960  \n",
       "unique         3              5  \n",
       "top     priority      not_recom  \n",
       "freq        4320           4320  "
      ]
     },
     "execution_count": 9,
     "metadata": {},
     "output_type": "execute_result"
    }
   ],
   "source": [
    "df.describe()"
   ]
  },
  {
   "cell_type": "markdown",
   "metadata": {},
   "source": [
    "Retirando as _features_ do _dataframe_ e transformando-as em valores _dummy_, pois todas são categóricas"
   ]
  },
  {
   "cell_type": "code",
   "execution_count": 10,
   "metadata": {},
   "outputs": [
    {
     "data": {
      "text/html": [
       "<div>\n",
       "<style scoped>\n",
       "    .dataframe tbody tr th:only-of-type {\n",
       "        vertical-align: middle;\n",
       "    }\n",
       "\n",
       "    .dataframe tbody tr th {\n",
       "        vertical-align: top;\n",
       "    }\n",
       "\n",
       "    .dataframe thead th {\n",
       "        text-align: right;\n",
       "    }\n",
       "</style>\n",
       "<table border=\"1\" class=\"dataframe\">\n",
       "  <thead>\n",
       "    <tr style=\"text-align: right;\">\n",
       "      <th></th>\n",
       "      <th>parents_great_pret</th>\n",
       "      <th>parents_pretentious</th>\n",
       "      <th>parents_usual</th>\n",
       "      <th>has_nurs_critical</th>\n",
       "      <th>has_nurs_improper</th>\n",
       "      <th>has_nurs_less_proper</th>\n",
       "      <th>has_nurs_proper</th>\n",
       "      <th>has_nurs_very_crit</th>\n",
       "      <th>form_complete</th>\n",
       "      <th>form_completed</th>\n",
       "      <th>...</th>\n",
       "      <th>housing_critical</th>\n",
       "      <th>housing_less_conv</th>\n",
       "      <th>finance_convenient</th>\n",
       "      <th>finance_inconv</th>\n",
       "      <th>social_nonprob</th>\n",
       "      <th>social_problematic</th>\n",
       "      <th>social_slightly_prob</th>\n",
       "      <th>health_not_recom</th>\n",
       "      <th>health_priority</th>\n",
       "      <th>health_recommended</th>\n",
       "    </tr>\n",
       "  </thead>\n",
       "  <tbody>\n",
       "    <tr>\n",
       "      <th>0</th>\n",
       "      <td>0</td>\n",
       "      <td>0</td>\n",
       "      <td>1</td>\n",
       "      <td>0</td>\n",
       "      <td>0</td>\n",
       "      <td>0</td>\n",
       "      <td>1</td>\n",
       "      <td>0</td>\n",
       "      <td>1</td>\n",
       "      <td>0</td>\n",
       "      <td>...</td>\n",
       "      <td>0</td>\n",
       "      <td>0</td>\n",
       "      <td>1</td>\n",
       "      <td>0</td>\n",
       "      <td>1</td>\n",
       "      <td>0</td>\n",
       "      <td>0</td>\n",
       "      <td>0</td>\n",
       "      <td>0</td>\n",
       "      <td>1</td>\n",
       "    </tr>\n",
       "    <tr>\n",
       "      <th>1</th>\n",
       "      <td>0</td>\n",
       "      <td>0</td>\n",
       "      <td>1</td>\n",
       "      <td>0</td>\n",
       "      <td>0</td>\n",
       "      <td>0</td>\n",
       "      <td>1</td>\n",
       "      <td>0</td>\n",
       "      <td>1</td>\n",
       "      <td>0</td>\n",
       "      <td>...</td>\n",
       "      <td>0</td>\n",
       "      <td>0</td>\n",
       "      <td>1</td>\n",
       "      <td>0</td>\n",
       "      <td>1</td>\n",
       "      <td>0</td>\n",
       "      <td>0</td>\n",
       "      <td>0</td>\n",
       "      <td>1</td>\n",
       "      <td>0</td>\n",
       "    </tr>\n",
       "    <tr>\n",
       "      <th>2</th>\n",
       "      <td>0</td>\n",
       "      <td>0</td>\n",
       "      <td>1</td>\n",
       "      <td>0</td>\n",
       "      <td>0</td>\n",
       "      <td>0</td>\n",
       "      <td>1</td>\n",
       "      <td>0</td>\n",
       "      <td>1</td>\n",
       "      <td>0</td>\n",
       "      <td>...</td>\n",
       "      <td>0</td>\n",
       "      <td>0</td>\n",
       "      <td>1</td>\n",
       "      <td>0</td>\n",
       "      <td>1</td>\n",
       "      <td>0</td>\n",
       "      <td>0</td>\n",
       "      <td>1</td>\n",
       "      <td>0</td>\n",
       "      <td>0</td>\n",
       "    </tr>\n",
       "    <tr>\n",
       "      <th>3</th>\n",
       "      <td>0</td>\n",
       "      <td>0</td>\n",
       "      <td>1</td>\n",
       "      <td>0</td>\n",
       "      <td>0</td>\n",
       "      <td>0</td>\n",
       "      <td>1</td>\n",
       "      <td>0</td>\n",
       "      <td>1</td>\n",
       "      <td>0</td>\n",
       "      <td>...</td>\n",
       "      <td>0</td>\n",
       "      <td>0</td>\n",
       "      <td>1</td>\n",
       "      <td>0</td>\n",
       "      <td>0</td>\n",
       "      <td>0</td>\n",
       "      <td>1</td>\n",
       "      <td>0</td>\n",
       "      <td>0</td>\n",
       "      <td>1</td>\n",
       "    </tr>\n",
       "    <tr>\n",
       "      <th>4</th>\n",
       "      <td>0</td>\n",
       "      <td>0</td>\n",
       "      <td>1</td>\n",
       "      <td>0</td>\n",
       "      <td>0</td>\n",
       "      <td>0</td>\n",
       "      <td>1</td>\n",
       "      <td>0</td>\n",
       "      <td>1</td>\n",
       "      <td>0</td>\n",
       "      <td>...</td>\n",
       "      <td>0</td>\n",
       "      <td>0</td>\n",
       "      <td>1</td>\n",
       "      <td>0</td>\n",
       "      <td>0</td>\n",
       "      <td>0</td>\n",
       "      <td>1</td>\n",
       "      <td>0</td>\n",
       "      <td>1</td>\n",
       "      <td>0</td>\n",
       "    </tr>\n",
       "  </tbody>\n",
       "</table>\n",
       "<p>5 rows × 27 columns</p>\n",
       "</div>"
      ],
      "text/plain": [
       "   parents_great_pret  parents_pretentious  parents_usual  has_nurs_critical  \\\n",
       "0                   0                    0              1                  0   \n",
       "1                   0                    0              1                  0   \n",
       "2                   0                    0              1                  0   \n",
       "3                   0                    0              1                  0   \n",
       "4                   0                    0              1                  0   \n",
       "\n",
       "   has_nurs_improper  has_nurs_less_proper  has_nurs_proper  \\\n",
       "0                  0                     0                1   \n",
       "1                  0                     0                1   \n",
       "2                  0                     0                1   \n",
       "3                  0                     0                1   \n",
       "4                  0                     0                1   \n",
       "\n",
       "   has_nurs_very_crit  form_complete  form_completed         ...          \\\n",
       "0                   0              1               0         ...           \n",
       "1                   0              1               0         ...           \n",
       "2                   0              1               0         ...           \n",
       "3                   0              1               0         ...           \n",
       "4                   0              1               0         ...           \n",
       "\n",
       "   housing_critical  housing_less_conv  finance_convenient  finance_inconv  \\\n",
       "0                 0                  0                   1               0   \n",
       "1                 0                  0                   1               0   \n",
       "2                 0                  0                   1               0   \n",
       "3                 0                  0                   1               0   \n",
       "4                 0                  0                   1               0   \n",
       "\n",
       "   social_nonprob  social_problematic  social_slightly_prob  health_not_recom  \\\n",
       "0               1                   0                     0                 0   \n",
       "1               1                   0                     0                 0   \n",
       "2               1                   0                     0                 1   \n",
       "3               0                   0                     1                 0   \n",
       "4               0                   0                     1                 0   \n",
       "\n",
       "   health_priority  health_recommended  \n",
       "0                0                   1  \n",
       "1                1                   0  \n",
       "2                0                   0  \n",
       "3                0                   1  \n",
       "4                1                   0  \n",
       "\n",
       "[5 rows x 27 columns]"
      ]
     },
     "execution_count": 10,
     "metadata": {},
     "output_type": "execute_result"
    }
   ],
   "source": [
    "features = pd.get_dummies(df.drop('classification', axis=1))\n",
    "features.head()"
   ]
  },
  {
   "cell_type": "markdown",
   "metadata": {},
   "source": [
    "Transformando os valores categóricos da coluna _target_ em valores numéricos"
   ]
  },
  {
   "cell_type": "code",
   "execution_count": 11,
   "metadata": {},
   "outputs": [
    {
     "data": {
      "text/plain": [
       "array([2, 1, 0, ..., 3, 3, 0])"
      ]
     },
     "execution_count": 11,
     "metadata": {},
     "output_type": "execute_result"
    }
   ],
   "source": [
    "from sklearn.preprocessing import LabelEncoder\n",
    "\n",
    "le = LabelEncoder()\n",
    "numeric_classification = le.fit_transform(df['classification'])\n",
    "numeric_classification"
   ]
  },
  {
   "cell_type": "markdown",
   "metadata": {},
   "source": [
    "Após isso, o _dataframe_ está pronto para ser utilizado.\n",
    "\n",
    "Abaixo, segue a implementação do KNN utilizando algumas técnicas diferentes."
   ]
  },
  {
   "cell_type": "markdown",
   "metadata": {},
   "source": [
    "## 1. KNN + train_test_split"
   ]
  },
  {
   "cell_type": "markdown",
   "metadata": {},
   "source": [
    "Como o nosso problema não tinha um _dataset_ de teste, a primeira técnica utilizada foi para separar o _dataframe_ em subamostras para treino e para teste. Para isso, foi utilizado o `train_test_split` do Scikit Learn.\n",
    "\n",
    "Importando o método e separando em subamostras, utilizando 30% do dataframe para teste."
   ]
  },
  {
   "cell_type": "code",
   "execution_count": 12,
   "metadata": {},
   "outputs": [],
   "source": [
    "from sklearn.model_selection import train_test_split\n",
    "X_train, X_test, y_train, y_test = train_test_split(features, numeric_classification, test_size=0.3, random_state=42)"
   ]
  },
  {
   "cell_type": "markdown",
   "metadata": {},
   "source": [
    "Após isso, foi criado um _loop_ para verificar qual o vizinho que, ao implementar o KNN, tem a maior acurácia ao final do teste. Os valores dos _scores_ de treino e de teste foram salvos para, posteriormente, ser plotado um gráfico para tirarmos conlusões."
   ]
  },
  {
   "cell_type": "code",
   "execution_count": 13,
   "metadata": {},
   "outputs": [],
   "source": [
    "from sklearn.neighbors import KNeighborsClassifier\n",
    "scores = []\n",
    "scores_train = []\n",
    "predicts = []\n",
    "for i in range(1, 50):\n",
    "    knn = KNeighborsClassifier(n_neighbors=i)\n",
    "    knn.fit(X_train, y_train)\n",
    "    predict = knn.predict(X_test)\n",
    "    predicts.append(predict)\n",
    "    score = knn.score(X_test, y_test)\n",
    "    scores.append(score)\n",
    "    score_train = knn.score(X_train, y_train)    \n",
    "    scores_train.append(score_train)"
   ]
  },
  {
   "cell_type": "markdown",
   "metadata": {},
   "source": [
    "Com o valor dos _scores_ guardados foi, possível gerar o gráfico contendo todos os vizinhos testados.\n",
    "\n",
    "Com o gráfico, nota-se que não houve _overfitting_ e nem _underfitting_, pois há uma uma alta precisão nos dados de teste e nos dados de treino, tendo os valores muito próximos. Não há uma discrepância notável entre os dois, de acordo com os dados mostrados no gráfico."
   ]
  },
  {
   "cell_type": "code",
   "execution_count": 14,
   "metadata": {},
   "outputs": [
    {
     "data": {
      "image/png": "[encoded data removed]",
      "text/plain": [
       "<Figure size 1008x504 with 1 Axes>"
      ]
     },
     "metadata": {},
     "output_type": "display_data"
    }
   ],
   "source": [
    "plt.figure(figsize=(14, 7))\n",
    "plt.plot(range(1, 50), scores, color='blue', linestyle='dashed', marker='*', label='Test Accuracy')\n",
    "plt.plot(range(1, 50), scores_train, color='orange', linestyle='dashed', marker='o', label='Train Accuracy')\n",
    "plt.legend()\n",
    "plt.xlabel('K-Neighbor')\n",
    "plt.ylabel('Score')\n",
    "plt.show()"
   ]
  },
  {
   "cell_type": "markdown",
   "metadata": {},
   "source": [
    "No fim, temos que o vizinho número 11 é o que teve a o maior _score_, sendo então o K escolhido para os demais testes."
   ]
  },
  {
   "cell_type": "code",
   "execution_count": 15,
   "metadata": {},
   "outputs": [
    {
     "name": "stdout",
     "output_type": "stream",
     "text": [
      "K: 11 | Accuracy: 0.9683641975308642\n"
     ]
    }
   ],
   "source": [
    "np_scores = np.array(scores)\n",
    "ind = np_scores.argmax()\n",
    "print('K:', ind, '| Accuracy:', scores[ind])"
   ]
  },
  {
   "cell_type": "code",
   "execution_count": 16,
   "metadata": {},
   "outputs": [
    {
     "name": "stdout",
     "output_type": "stream",
     "text": [
      "             precision    recall  f1-score   support\n",
      "\n",
      "          0       1.00      1.00      1.00      1320\n",
      "          1       0.94      0.97      0.95      1272\n",
      "          2       0.00      0.00      0.00         2\n",
      "          3       0.97      0.97      0.97      1190\n",
      "          4       0.97      0.57      0.72       104\n",
      "\n",
      "avg / total       0.97      0.97      0.97      3888\n",
      "\n"
     ]
    },
    {
     "name": "stderr",
     "output_type": "stream",
     "text": [
      "/usr/lib/python3.6/site-packages/sklearn/metrics/classification.py:1135: UndefinedMetricWarning: Precision and F-score are ill-defined and being set to 0.0 in labels with no predicted samples.\n",
      "  'precision', 'predicted', average, warn_for)\n"
     ]
    }
   ],
   "source": [
    "from sklearn.metrics import classification_report\n",
    "\n",
    "print(classification_report(y_test, predicts[ind]))"
   ]
  },
  {
   "cell_type": "code",
   "execution_count": 17,
   "metadata": {},
   "outputs": [
    {
     "data": {
      "text/plain": [
       "array([[1320,    0,    0,    0,    0],\n",
       "       [   0, 1233,    0,   39,    0],\n",
       "       [   0,    0,    0,    0,    2],\n",
       "       [   0,   37,    0, 1153,    0],\n",
       "       [   0,   45,    0,    0,   59]])"
      ]
     },
     "execution_count": 17,
     "metadata": {},
     "output_type": "execute_result"
    }
   ],
   "source": [
    "from sklearn.metrics import confusion_matrix\n",
    "\n",
    "confusion_matrix(y_test, predicts[ind])"
   ]
  },
  {
   "cell_type": "markdown",
   "metadata": {},
   "source": [
    "## 2. KNN + KFold\n",
    "\n",
    "Neste caso, foi utilizado o método `KFold` para fazer o _split_. É uma forma de fazer o _cross-validator_ dividindo o _dataset_ em K _folds_ consecutivos. Cada _fold_ é criada preservando a porcentagem de amostras para cada classe. O `KFold` gera, de acordo com o número designado, sub-amostras contendo posições aleatórias.\n",
    "\n",
    "Importando o método para utilizar o KFold."
   ]
  },
  {
   "cell_type": "code",
   "execution_count": 18,
   "metadata": {},
   "outputs": [],
   "source": [
    "from sklearn.model_selection import KFold"
   ]
  },
  {
   "cell_type": "markdown",
   "metadata": {},
   "source": [
    "Foi designando para a seleção ser dividida em 3 sub-amostras. Após isso, foi gerado um _loop_ para percorres os _splits_. O modelo KNN com cada uma dessas amostras foi guardando juntamente com o seu _score_ para descobrir qual teve a maior acurácia."
   ]
  },
  {
   "cell_type": "code",
   "execution_count": 19,
   "metadata": {},
   "outputs": [],
   "source": [
    "kf = KFold(n_splits=3)\n",
    "models = []\n",
    "scores = []\n",
    "for train, test in kf.split(features):\n",
    "    knn = KNeighborsClassifier(n_neighbors=11)\n",
    "    knn.fit(features.values[train], numeric_classification[train])\n",
    "    score = knn.score(features.values[test], numeric_classification[test])\n",
    "    models.append(knn)\n",
    "    scores.append(score)"
   ]
  },
  {
   "cell_type": "markdown",
   "metadata": {},
   "source": [
    "No fim, foi comprovado que o _split_ da posição 0 foi o mais eficaz, pois ele teve a maior acurácia dentre eles. Apesar disto, utilizando este método, obtivemos uma acurácia menor do que a do modelo 1."
   ]
  },
  {
   "cell_type": "code",
   "execution_count": 20,
   "metadata": {},
   "outputs": [
    {
     "name": "stdout",
     "output_type": "stream",
     "text": [
      "K: 0 | Accuracy: 0.8557870370370371\n"
     ]
    }
   ],
   "source": [
    "np_scores = np.array(scores)\n",
    "ind = np_scores.argmax()\n",
    "print('K:', ind, '| Accuracy:', scores[ind])"
   ]
  },
  {
   "cell_type": "markdown",
   "metadata": {},
   "source": [
    "Comparando os _scores_ de cada K."
   ]
  },
  {
   "cell_type": "code",
   "execution_count": 21,
   "metadata": {},
   "outputs": [
    {
     "data": {
      "text/plain": [
       "<matplotlib.legend.Legend at 0x7f89fa03e8d0>"
      ]
     },
     "execution_count": 21,
     "metadata": {},
     "output_type": "execute_result"
    },
    {
     "data": {
      "image/png": "[encoded data removed]",
      "text/plain": [
       "<Figure size 432x288 with 1 Axes>"
      ]
     },
     "metadata": {},
     "output_type": "display_data"
    }
   ],
   "source": [
    "fig, ax = plt.subplots()\n",
    "np_ind = np.arange(len(np_scores))\n",
    "\n",
    "rects1 = ax.bar(np_ind, scores, 1/1.5, label='Score')\n",
    "\n",
    "ax.set_ylabel('Score Percentage')\n",
    "ax.set_title('Models Score')\n",
    "ax.set_xticks(np_ind)\n",
    "ax.set_xticklabels(('1', '2', '3'))\n",
    "ax.legend()"
   ]
  },
  {
   "cell_type": "code",
   "execution_count": 22,
   "metadata": {},
   "outputs": [],
   "source": [
    "scores_test = []\n",
    "scores_train = []\n",
    "for train, test in kf.split(features):\n",
    "    knn = KNeighborsClassifier(n_neighbors=11)\n",
    "    knn.fit(features.values[train], numeric_classification[train])\n",
    "    score = knn.score(features.values[test], numeric_classification[test])\n",
    "    scores_test.append(score)\n",
    "    score = knn.score(features.values[train], numeric_classification[train])\n",
    "    scores_train.append(score)"
   ]
  },
  {
   "cell_type": "code",
   "execution_count": 23,
   "metadata": {},
   "outputs": [
    {
     "data": {
      "image/png": "[encoded data removed]",
      "text/plain": [
       "<Figure size 720x360 with 1 Axes>"
      ]
     },
     "metadata": {},
     "output_type": "display_data"
    }
   ],
   "source": [
    "plt.figure(figsize=(10, 5))\n",
    "plt.plot([1, 2, 3], scores_test, color='blue', linestyle='dashed', marker='*', label='Test Accuracy')\n",
    "plt.plot([1, 2, 3], scores_train, color='orange', linestyle='dashed', marker='o', label='Train Accuracy')\n",
    "plt.legend()\n",
    "plt.xlabel('K')\n",
    "plt.ylabel('Score')\n",
    "plt.show()"
   ]
  },
  {
   "cell_type": "markdown",
   "metadata": {},
   "source": [
    "## 3. KNN + cross_val_score\n",
    "\n",
    "Por último, foi utilizado como técnica para gerar as amostras, o `cross_val_score`. Este método utiliza a validação cruzada para avaliar o modelo.\n",
    "\n",
    "Importando o modelo de validação cruzada."
   ]
  },
  {
   "cell_type": "code",
   "execution_count": 24,
   "metadata": {},
   "outputs": [],
   "source": [
    "from sklearn.model_selection import cross_val_score"
   ]
  },
  {
   "cell_type": "markdown",
   "metadata": {},
   "source": [
    "Ainda utilizando o 11 como o melhor vizinho, foi passado o modelo para o método para fazer a avaliação."
   ]
  },
  {
   "cell_type": "code",
   "execution_count": 25,
   "metadata": {},
   "outputs": [
    {
     "name": "stderr",
     "output_type": "stream",
     "text": [
      "/usr/lib/python3.6/site-packages/sklearn/model_selection/_split.py:605: Warning: The least populated class in y has only 2 members, which is too few. The minimum number of members in any class cannot be less than n_splits=10.\n",
      "  % (min_groups, self.n_splits)), Warning)\n"
     ]
    }
   ],
   "source": [
    "knn = KNeighborsClassifier(n_neighbors=11)\n",
    "cv_scores = cross_val_score(knn, features, numeric_classification, cv=10)"
   ]
  },
  {
   "cell_type": "markdown",
   "metadata": {},
   "source": [
    "No fim, foi verificado que o split de melhor _score_ foi o de número 9."
   ]
  },
  {
   "cell_type": "code",
   "execution_count": 27,
   "metadata": {},
   "outputs": [
    {
     "name": "stdout",
     "output_type": "stream",
     "text": [
      "Best: 9 | Accuracy: 0.8493044822256569\n"
     ]
    }
   ],
   "source": [
    "np_cv_scores = np.array(cv_scores)\n",
    "ind = np_cv_scores.argmax()\n",
    "print('Best:', ind, '| Accuracy:', cv_scores[ind])"
   ]
  }
 ],
 "metadata": {
  "kernelspec": {
   "display_name": "Python 3",
   "language": "python",
   "name": "python3"
  },
  "language_info": {
   "codemirror_mode": {
    "name": "ipython",
    "version": 3
   },
   "file_extension": ".py",
   "mimetype": "text/x-python",
   "name": "python",
   "nbconvert_exporter": "python",
   "pygments_lexer": "ipython3",
   "version": "3.6.5"
  }
 },
 "nbformat": 4,
 "nbformat_minor": 2
}
