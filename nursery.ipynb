{
 "cells": [
  {
   "cell_type": "markdown",
   "metadata": {},
   "source": [
    "# Nursery Data Set"
   ]
  },
  {
   "cell_type": "markdown",
   "metadata": {},
   "source": [
    "Nursery Data Set é um problema de classificação que pode ser encontrado no [UCA Machine Learning Repository](https://archive.ics.uci.edu/ml/datasets/nursery).\n",
    "\n",
    "Este problema tem como contexto um modelo hierarquico para creches, desenvolvido para classificar o pedido de uma família. Seu objetivo é, dado os atributos da família, classificar\n",
    "qual a prioridade da mesma para uma vaga na creche."
   ]
  },
  {
   "cell_type": "markdown",
   "metadata": {},
   "source": [
    "## 1. Dados"
   ]
  },
  {
   "cell_type": "markdown",
   "metadata": {},
   "source": [
    "No dataset, há um total de 8 _features_, onde cada uma delas têm valores qualitativos associados:"
   ]
  },
  {
   "cell_type": "markdown",
   "metadata": {},
   "source": [
    "|  Número da coluna  | _Feature_ | Valores possíveis                                  |\n",
    "| :----------------: | :-------- | :------------------------------------------------- |\n",
    "| 1                  | parents   | usual, pretentious, great_pret                     |\n",
    "| 2                  | has_nurs  | proper, less_proper, improper, critical, very_crit |\n",
    "| 3                  | form      | complete, completed, incomplete, foster            |\n",
    "| 4                  | children  | 1, 2, 3, more                                      |\n",
    "| 5                  | housing   | convenient, less_conv, critical                    |\n",
    "| 6                  | finance   | convenient, inconv                                 |\n",
    "| 7                  | social    | non-prob, slightly_prob, problematic               |\n",
    "| 7                  | health    | recommended, priority, not_recom                   |"
   ]
  },
  {
   "cell_type": "markdown",
   "metadata": {},
   "source": [
    "Além das _features_, existe uma 9ª coluna _target_, que a denominamos de _classification_, onde os valores possíveis são: not_recom, priority, recommended, spec_prior, very_recom "
   ]
  },
  {
   "cell_type": "markdown",
   "metadata": {},
   "source": [
    "## 2. Análise dos Dados"
   ]
  },
  {
   "cell_type": "markdown",
   "metadata": {},
   "source": [
    "Os dados estão alocados no diretório `./data`, onde foi gerado um arquivo .csv partir do _dataset_ original, denomidado `nursey.data.csv`. Utilizamos várias bibliotecas para manipulação e visualização dos dados, onde podemos citar principalmente: pandas, numpy, matplotlib, pydot, entre outras."
   ]
  },
  {
   "cell_type": "code",
   "execution_count": 7,
   "metadata": {},
   "outputs": [],
   "source": [
    "import pandas as pd\n",
    "import numpy as np\n",
    "import matplotlib.pyplot as plt\n",
    "import pydot\n",
    "%matplotlib inline"
   ]
  },
  {
   "cell_type": "markdown",
   "metadata": {},
   "source": [
    "A amostra que trabalhamos contém 12960 registros, onde, de acordo com o algorítmo utilizado, foi dividido em sub-amostras para treino e testes."
   ]
  },
  {
   "cell_type": "code",
   "execution_count": 6,
   "metadata": {},
   "outputs": [
    {
     "name": "stdout",
     "output_type": "stream",
     "text": [
      "<class 'pandas.core.frame.DataFrame'>\n",
      "RangeIndex: 12960 entries, 0 to 12959\n",
      "Data columns (total 9 columns):\n",
      "parents           12960 non-null object\n",
      "has_nurs          12960 non-null object\n",
      "form              12960 non-null object\n",
      "children          12960 non-null object\n",
      "housing           12960 non-null object\n",
      "finance           12960 non-null object\n",
      "social            12960 non-null object\n",
      "health            12960 non-null object\n",
      "classification    12960 non-null object\n",
      "dtypes: object(9)\n",
      "memory usage: 911.3+ KB\n"
     ]
    }
   ],
   "source": [
    "columns = ['parents', 'has_nurs', 'form', 'children', 'housing', 'finance', 'social', 'health', 'classification']\n",
    "df = pd.read_csv('./data/nursery.data.csv', header=None, names=columns)\n",
    "df.info()"
   ]
  },
  {
   "cell_type": "markdown",
   "metadata": {},
   "source": [
    "## 3. Tratamento dos Dados"
   ]
  },
  {
   "cell_type": "markdown",
   "metadata": {},
   "source": [
    "### _3.1 Feature Selection_"
   ]
  },
  {
   "cell_type": "markdown",
   "metadata": {},
   "source": [
    "### 3.2 _Feature Engineering_"
   ]
  },
  {
   "cell_type": "markdown",
   "metadata": {},
   "source": [
    "## 4. Modelos de Aprendizagem"
   ]
  },
  {
   "cell_type": "markdown",
   "metadata": {},
   "source": [
    "## 5. Resultados"
   ]
  },
  {
   "cell_type": "markdown",
   "metadata": {},
   "source": [
    "## 6. Avaliação dos Resultados"
   ]
  },
  {
   "cell_type": "markdown",
   "metadata": {},
   "source": [
    "## 7. Comentários"
   ]
  }
 ],
 "metadata": {
  "kernelspec": {
   "display_name": "Python 3",
   "language": "python",
   "name": "python3"
  },
  "language_info": {
   "codemirror_mode": {
    "name": "ipython",
    "version": 3
   },
   "file_extension": ".py",
   "mimetype": "text/x-python",
   "name": "python",
   "nbconvert_exporter": "python",
   "pygments_lexer": "ipython3",
   "version": "3.6.4"
  }
 },
 "nbformat": 4,
 "nbformat_minor": 2
}
